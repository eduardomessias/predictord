{
  "nbformat": 4,
  "nbformat_minor": 0,
  "metadata": {
    "colab": {
      "name": "SMA.ipynb",
      "provenance": [],
      "collapsed_sections": [],
      "authorship_tag": "ABX9TyOsbJl7hY1TYzImnQe/Q7/t",
      "include_colab_link": true
    },
    "kernelspec": {
      "name": "python3",
      "display_name": "Python 3"
    }
  },
  "cells": [
    {
      "cell_type": "markdown",
      "metadata": {
        "id": "view-in-github",
        "colab_type": "text"
      },
      "source": [
        "<a href=\"https://colab.research.google.com/github/eduardomessias/predictord/blob/main/SMA.ipynb\" target=\"_parent\"><img src=\"https://colab.research.google.com/assets/colab-badge.svg\" alt=\"Open In Colab\"/></a>"
      ]
    },
    {
      "cell_type": "markdown",
      "metadata": {
        "id": "XSVbL9vY0PZp"
      },
      "source": [
        "Description: This program uses the dual moving average crossover to determine\n",
        "when to buy and sell stock."
      ]
    },
    {
      "cell_type": "code",
      "metadata": {
        "id": "aP_L2O7L0fvH"
      },
      "source": [
        "# Import the libraries\n",
        "import pandas as pd\n",
        "import numpy as np\n",
        "from datetime import datetime\n",
        "import matplotlib.pyplot as plt\n",
        "plt.style.use('fivethirtyeight')"
      ],
      "execution_count": 46,
      "outputs": []
    },
    {
      "cell_type": "code",
      "metadata": {
        "id": "qjDlAdq7035Y",
        "outputId": "78f7dec6-1b8e-4bfd-a6a7-af6fbcfa10af",
        "colab": {
          "base_uri": "https://localhost:8080/",
          "height": 238
        }
      },
      "source": [
        "# Import yfinance\n",
        "!pip install yfinance\n",
        "import yfinance as yf"
      ],
      "execution_count": 47,
      "outputs": [
        {
          "output_type": "stream",
          "text": [
            "Requirement already satisfied: yfinance in /usr/local/lib/python3.6/dist-packages (0.1.55)\n",
            "Requirement already satisfied: multitasking>=0.0.7 in /usr/local/lib/python3.6/dist-packages (from yfinance) (0.0.9)\n",
            "Requirement already satisfied: lxml>=4.5.1 in /usr/local/lib/python3.6/dist-packages (from yfinance) (4.6.1)\n",
            "Requirement already satisfied: requests>=2.20 in /usr/local/lib/python3.6/dist-packages (from yfinance) (2.23.0)\n",
            "Requirement already satisfied: numpy>=1.15 in /usr/local/lib/python3.6/dist-packages (from yfinance) (1.18.5)\n",
            "Requirement already satisfied: pandas>=0.24 in /usr/local/lib/python3.6/dist-packages (from yfinance) (1.1.2)\n",
            "Requirement already satisfied: idna<3,>=2.5 in /usr/local/lib/python3.6/dist-packages (from requests>=2.20->yfinance) (2.10)\n",
            "Requirement already satisfied: certifi>=2017.4.17 in /usr/local/lib/python3.6/dist-packages (from requests>=2.20->yfinance) (2020.6.20)\n",
            "Requirement already satisfied: chardet<4,>=3.0.2 in /usr/local/lib/python3.6/dist-packages (from requests>=2.20->yfinance) (3.0.4)\n",
            "Requirement already satisfied: urllib3!=1.25.0,!=1.25.1,<1.26,>=1.21.1 in /usr/local/lib/python3.6/dist-packages (from requests>=2.20->yfinance) (1.24.3)\n",
            "Requirement already satisfied: python-dateutil>=2.7.3 in /usr/local/lib/python3.6/dist-packages (from pandas>=0.24->yfinance) (2.8.1)\n",
            "Requirement already satisfied: pytz>=2017.2 in /usr/local/lib/python3.6/dist-packages (from pandas>=0.24->yfinance) (2018.9)\n",
            "Requirement already satisfied: six>=1.5 in /usr/local/lib/python3.6/dist-packages (from python-dateutil>=2.7.3->pandas>=0.24->yfinance) (1.15.0)\n"
          ],
          "name": "stdout"
        }
      ]
    },
    {
      "cell_type": "code",
      "metadata": {
        "id": "C_rQ47vk3O7Q",
        "outputId": "d13eaf4f-c596-4d39-e3f5-9a1c155579b4",
        "colab": {
          "base_uri": "https://localhost:8080/",
          "height": 1000
        }
      },
      "source": [
        "# Get stock ticker\n",
        "msft = yf.Ticker('MSFT')\n",
        "\n",
        "# Get stock info\n",
        "msft.info"
      ],
      "execution_count": 61,
      "outputs": [
        {
          "output_type": "execute_result",
          "data": {
            "text/plain": [
              "{'52WeekChange': 0.49961853,\n",
              " 'SandP52WeekChange': 0.1401484,\n",
              " 'address1': 'One Microsoft Way',\n",
              " 'algorithm': None,\n",
              " 'annualHoldingsTurnover': None,\n",
              " 'annualReportExpenseRatio': None,\n",
              " 'ask': 217,\n",
              " 'askSize': 1200,\n",
              " 'averageDailyVolume10Day': 23317500,\n",
              " 'averageVolume': 32124352,\n",
              " 'averageVolume10days': 23317500,\n",
              " 'beta': 0.923331,\n",
              " 'beta3Year': None,\n",
              " 'bid': 216.86,\n",
              " 'bidSize': 900,\n",
              " 'bookValue': 15.626,\n",
              " 'category': None,\n",
              " 'circulatingSupply': None,\n",
              " 'city': 'Redmond',\n",
              " 'companyOfficers': [],\n",
              " 'country': 'United States',\n",
              " 'currency': 'USD',\n",
              " 'dateShortInterest': 1601424000,\n",
              " 'dayHigh': 216.28,\n",
              " 'dayLow': 213.16,\n",
              " 'dividendRate': 2.24,\n",
              " 'dividendYield': 0.0104,\n",
              " 'earningsQuarterlyGrowth': -0.151,\n",
              " 'enterpriseToEbitda': 24.241,\n",
              " 'enterpriseToRevenue': 11.062,\n",
              " 'enterpriseValue': 1581971537920,\n",
              " 'exDividendDate': 1605657600,\n",
              " 'exchange': 'NMS',\n",
              " 'exchangeTimezoneName': 'America/New_York',\n",
              " 'exchangeTimezoneShortName': 'EDT',\n",
              " 'expireDate': None,\n",
              " 'fiftyDayAverage': 210.26057,\n",
              " 'fiftyTwoWeekHigh': 232.86,\n",
              " 'fiftyTwoWeekLow': 132.52,\n",
              " 'fiveYearAverageReturn': None,\n",
              " 'fiveYearAvgDividendYield': 1.8,\n",
              " 'floatShares': 7456105731,\n",
              " 'forwardEps': 7.33,\n",
              " 'forwardPE': 29.499317,\n",
              " 'fromCurrency': None,\n",
              " 'fullTimeEmployees': 163000,\n",
              " 'fundFamily': None,\n",
              " 'fundInceptionDate': None,\n",
              " 'gmtOffSetMilliseconds': '-14400000',\n",
              " 'heldPercentInsiders': 0.014249999,\n",
              " 'heldPercentInstitutions': 0.74093,\n",
              " 'industry': 'Software—Infrastructure',\n",
              " 'isEsgPopulated': False,\n",
              " 'lastCapGain': None,\n",
              " 'lastDividendDate': 1597795200,\n",
              " 'lastDividendValue': 0.51,\n",
              " 'lastFiscalYearEnd': 1593475200,\n",
              " 'lastMarket': None,\n",
              " 'lastSplitDate': 1045526400,\n",
              " 'lastSplitFactor': '2:1',\n",
              " 'legalType': None,\n",
              " 'logo_url': 'https://logo.clearbit.com/microsoft.com',\n",
              " 'longBusinessSummary': 'Microsoft Corporation develops, licenses, and supports software, services, devices, and solutions worldwide. Its Productivity and Business Processes segment offers Office, Exchange, SharePoint, Microsoft Teams, Office 365 Security and Compliance, and Skype for Business, as well as related Client Access Licenses (CAL); Skype, Outlook.com, and OneDrive; LinkedIn that includes Talent, Learning, Sales, and Marketing solutions, as well as premium subscriptions; and Dynamics 365, a set of cloud-based and on-premises business solutions for small and medium businesses, large organizations, and divisions of enterprises. Its Intelligent Cloud segment licenses SQL and Windows Servers, Visual Studio, System Center, and related CALs; GitHub that provides a collaboration platform and code hosting service for developers; and Azure, a cloud platform. It also offers support services and Microsoft consulting services to assist customers in developing, deploying, and managing Microsoft server and desktop solutions; and training and certification to developers and IT professionals on various Microsoft products. Its More Personal Computing segment provides Windows original equipment manufacturer (OEM) licensing and other non-volume licensing of the Windows operating system; Windows Commercial, such as volume licensing of the Windows operating system, Windows cloud services, and other Windows commercial offerings; patent licensing; Windows Internet of Things; and MSN advertising. It also offers Surface, PC accessories, PCs, tablets, gaming and entertainment consoles, and other intelligent devices; Gaming, including Xbox hardware, and Xbox content and services; video games and third-party video game royalties; and Search, including Bing and Microsoft advertising. It sells its products through OEMs, distributors, and resellers; and directly through digital marketplaces, online stores, and retail stores. The company was founded in 1975 and is headquartered in Redmond, Washington.',\n",
              " 'longName': 'Microsoft Corporation',\n",
              " 'market': 'us_market',\n",
              " 'marketCap': 1635310632960,\n",
              " 'maxAge': 1,\n",
              " 'maxSupply': None,\n",
              " 'messageBoardId': 'finmb_21835',\n",
              " 'morningStarOverallRating': None,\n",
              " 'morningStarRiskRating': None,\n",
              " 'mostRecentQuarter': 1593475200,\n",
              " 'navPrice': None,\n",
              " 'netIncomeToCommon': 44280999936,\n",
              " 'nextFiscalYearEnd': 1656547200,\n",
              " 'open': 215.03,\n",
              " 'openInterest': None,\n",
              " 'payoutRatio': 0.3455,\n",
              " 'pegRatio': 2.29,\n",
              " 'phone': '425-882-8080',\n",
              " 'previousClose': 214.89,\n",
              " 'priceHint': 2,\n",
              " 'priceToBook': 13.837833,\n",
              " 'priceToSalesTrailing12Months': 11.434539,\n",
              " 'profitMargins': 0.30962,\n",
              " 'quoteType': 'EQUITY',\n",
              " 'regularMarketDayHigh': 216.28,\n",
              " 'regularMarketDayLow': 213.16,\n",
              " 'regularMarketOpen': 215.03,\n",
              " 'regularMarketPreviousClose': 214.89,\n",
              " 'regularMarketPrice': 215.03,\n",
              " 'regularMarketVolume': 18879608,\n",
              " 'revenueQuarterlyGrowth': None,\n",
              " 'sector': 'Technology',\n",
              " 'sharesOutstanding': 7562829824,\n",
              " 'sharesPercentSharesOut': 0.0052,\n",
              " 'sharesShort': 39634230,\n",
              " 'sharesShortPreviousMonthDate': 1598832000,\n",
              " 'sharesShortPriorMonth': 36458662,\n",
              " 'shortName': 'Microsoft Corporation',\n",
              " 'shortPercentOfFloat': 0.0053,\n",
              " 'shortRatio': 1.09,\n",
              " 'startDate': None,\n",
              " 'state': 'WA',\n",
              " 'strikePrice': None,\n",
              " 'symbol': 'MSFT',\n",
              " 'threeYearAverageReturn': None,\n",
              " 'toCurrency': None,\n",
              " 'totalAssets': None,\n",
              " 'tradeable': False,\n",
              " 'trailingAnnualDividendRate': 2.04,\n",
              " 'trailingAnnualDividendYield': 0.009493229,\n",
              " 'trailingEps': 5.76,\n",
              " 'trailingPE': 37.53993,\n",
              " 'twoHundredDayAverage': 199.30093,\n",
              " 'volume': 18879608,\n",
              " 'volume24Hr': None,\n",
              " 'volumeAllCurrencies': None,\n",
              " 'website': 'http://www.microsoft.com',\n",
              " 'yield': None,\n",
              " 'ytdReturn': None,\n",
              " 'zip': '98052-6399'}"
            ]
          },
          "metadata": {
            "tags": []
          },
          "execution_count": 61
        }
      ]
    },
    {
      "cell_type": "code",
      "metadata": {
        "id": "SB11y08F3pAK",
        "outputId": "0f60e18e-2d83-4d1a-87d5-efc0ad72a852",
        "colab": {
          "base_uri": "https://localhost:8080/",
          "height": 450
        }
      },
      "source": [
        "hist = msft.history(period=\"5y\")\n",
        "hist"
      ],
      "execution_count": 162,
      "outputs": [
        {
          "output_type": "execute_result",
          "data": {
            "text/html": [
              "<div>\n",
              "<style scoped>\n",
              "    .dataframe tbody tr th:only-of-type {\n",
              "        vertical-align: middle;\n",
              "    }\n",
              "\n",
              "    .dataframe tbody tr th {\n",
              "        vertical-align: top;\n",
              "    }\n",
              "\n",
              "    .dataframe thead th {\n",
              "        text-align: right;\n",
              "    }\n",
              "</style>\n",
              "<table border=\"1\" class=\"dataframe\">\n",
              "  <thead>\n",
              "    <tr style=\"text-align: right;\">\n",
              "      <th></th>\n",
              "      <th>Open</th>\n",
              "      <th>High</th>\n",
              "      <th>Low</th>\n",
              "      <th>Close</th>\n",
              "      <th>Volume</th>\n",
              "      <th>Dividends</th>\n",
              "      <th>Stock Splits</th>\n",
              "    </tr>\n",
              "    <tr>\n",
              "      <th>Date</th>\n",
              "      <th></th>\n",
              "      <th></th>\n",
              "      <th></th>\n",
              "      <th></th>\n",
              "      <th></th>\n",
              "      <th></th>\n",
              "      <th></th>\n",
              "    </tr>\n",
              "  </thead>\n",
              "  <tbody>\n",
              "    <tr>\n",
              "      <th>2015-10-26</th>\n",
              "      <td>47.739010</td>\n",
              "      <td>49.365755</td>\n",
              "      <td>47.711748</td>\n",
              "      <td>49.302139</td>\n",
              "      <td>64633300</td>\n",
              "      <td>0.0</td>\n",
              "      <td>0</td>\n",
              "    </tr>\n",
              "    <tr>\n",
              "      <th>2015-10-27</th>\n",
              "      <td>49.065854</td>\n",
              "      <td>49.411194</td>\n",
              "      <td>48.693248</td>\n",
              "      <td>48.793213</td>\n",
              "      <td>50999900</td>\n",
              "      <td>0.0</td>\n",
              "      <td>0</td>\n",
              "    </tr>\n",
              "    <tr>\n",
              "      <th>2015-10-28</th>\n",
              "      <td>48.656894</td>\n",
              "      <td>49.056763</td>\n",
              "      <td>48.038913</td>\n",
              "      <td>49.056763</td>\n",
              "      <td>47000800</td>\n",
              "      <td>0.0</td>\n",
              "      <td>0</td>\n",
              "    </tr>\n",
              "    <tr>\n",
              "      <th>2015-10-29</th>\n",
              "      <td>48.656900</td>\n",
              "      <td>48.920452</td>\n",
              "      <td>48.366086</td>\n",
              "      <td>48.493317</td>\n",
              "      <td>30202100</td>\n",
              "      <td>0.0</td>\n",
              "      <td>0</td>\n",
              "    </tr>\n",
              "    <tr>\n",
              "      <th>2015-10-30</th>\n",
              "      <td>48.456959</td>\n",
              "      <td>49.065853</td>\n",
              "      <td>47.820801</td>\n",
              "      <td>47.838978</td>\n",
              "      <td>46619800</td>\n",
              "      <td>0.0</td>\n",
              "      <td>0</td>\n",
              "    </tr>\n",
              "    <tr>\n",
              "      <th>...</th>\n",
              "      <td>...</td>\n",
              "      <td>...</td>\n",
              "      <td>...</td>\n",
              "      <td>...</td>\n",
              "      <td>...</td>\n",
              "      <td>...</td>\n",
              "      <td>...</td>\n",
              "    </tr>\n",
              "    <tr>\n",
              "      <th>2020-10-19</th>\n",
              "      <td>220.419998</td>\n",
              "      <td>222.300003</td>\n",
              "      <td>213.720001</td>\n",
              "      <td>214.220001</td>\n",
              "      <td>27625800</td>\n",
              "      <td>0.0</td>\n",
              "      <td>0</td>\n",
              "    </tr>\n",
              "    <tr>\n",
              "      <th>2020-10-20</th>\n",
              "      <td>215.800003</td>\n",
              "      <td>217.369995</td>\n",
              "      <td>213.089996</td>\n",
              "      <td>214.649994</td>\n",
              "      <td>22753500</td>\n",
              "      <td>0.0</td>\n",
              "      <td>0</td>\n",
              "    </tr>\n",
              "    <tr>\n",
              "      <th>2020-10-21</th>\n",
              "      <td>213.119995</td>\n",
              "      <td>216.919998</td>\n",
              "      <td>213.119995</td>\n",
              "      <td>214.800003</td>\n",
              "      <td>22724900</td>\n",
              "      <td>0.0</td>\n",
              "      <td>0</td>\n",
              "    </tr>\n",
              "    <tr>\n",
              "      <th>2020-10-22</th>\n",
              "      <td>213.929993</td>\n",
              "      <td>216.059998</td>\n",
              "      <td>211.699997</td>\n",
              "      <td>214.889999</td>\n",
              "      <td>22351500</td>\n",
              "      <td>0.0</td>\n",
              "      <td>0</td>\n",
              "    </tr>\n",
              "    <tr>\n",
              "      <th>2020-10-23</th>\n",
              "      <td>215.029999</td>\n",
              "      <td>216.279999</td>\n",
              "      <td>213.160004</td>\n",
              "      <td>216.229996</td>\n",
              "      <td>18841600</td>\n",
              "      <td>0.0</td>\n",
              "      <td>0</td>\n",
              "    </tr>\n",
              "  </tbody>\n",
              "</table>\n",
              "<p>1259 rows × 7 columns</p>\n",
              "</div>"
            ],
            "text/plain": [
              "                  Open        High  ...  Dividends  Stock Splits\n",
              "Date                                ...                         \n",
              "2015-10-26   47.739010   49.365755  ...        0.0             0\n",
              "2015-10-27   49.065854   49.411194  ...        0.0             0\n",
              "2015-10-28   48.656894   49.056763  ...        0.0             0\n",
              "2015-10-29   48.656900   48.920452  ...        0.0             0\n",
              "2015-10-30   48.456959   49.065853  ...        0.0             0\n",
              "...                ...         ...  ...        ...           ...\n",
              "2020-10-19  220.419998  222.300003  ...        0.0             0\n",
              "2020-10-20  215.800003  217.369995  ...        0.0             0\n",
              "2020-10-21  213.119995  216.919998  ...        0.0             0\n",
              "2020-10-22  213.929993  216.059998  ...        0.0             0\n",
              "2020-10-23  215.029999  216.279999  ...        0.0             0\n",
              "\n",
              "[1259 rows x 7 columns]"
            ]
          },
          "metadata": {
            "tags": []
          },
          "execution_count": 162
        }
      ]
    },
    {
      "cell_type": "code",
      "metadata": {
        "id": "RHiqNqQy4Gvu",
        "outputId": "4156f675-8bbf-4726-dd99-f3ea05721df7",
        "colab": {
          "base_uri": "https://localhost:8080/",
          "height": 450
        }
      },
      "source": [
        "msft.recommendations"
      ],
      "execution_count": 163,
      "outputs": [
        {
          "output_type": "execute_result",
          "data": {
            "text/html": [
              "<div>\n",
              "<style scoped>\n",
              "    .dataframe tbody tr th:only-of-type {\n",
              "        vertical-align: middle;\n",
              "    }\n",
              "\n",
              "    .dataframe tbody tr th {\n",
              "        vertical-align: top;\n",
              "    }\n",
              "\n",
              "    .dataframe thead th {\n",
              "        text-align: right;\n",
              "    }\n",
              "</style>\n",
              "<table border=\"1\" class=\"dataframe\">\n",
              "  <thead>\n",
              "    <tr style=\"text-align: right;\">\n",
              "      <th></th>\n",
              "      <th>Firm</th>\n",
              "      <th>To Grade</th>\n",
              "      <th>From Grade</th>\n",
              "      <th>Action</th>\n",
              "    </tr>\n",
              "    <tr>\n",
              "      <th>Date</th>\n",
              "      <th></th>\n",
              "      <th></th>\n",
              "      <th></th>\n",
              "      <th></th>\n",
              "    </tr>\n",
              "  </thead>\n",
              "  <tbody>\n",
              "    <tr>\n",
              "      <th>2012-03-16 08:19:00</th>\n",
              "      <td>Argus Research</td>\n",
              "      <td>Buy</td>\n",
              "      <td></td>\n",
              "      <td>up</td>\n",
              "    </tr>\n",
              "    <tr>\n",
              "      <th>2012-03-19 14:00:00</th>\n",
              "      <td>Hilliard Lyons</td>\n",
              "      <td>Long-Term Buy</td>\n",
              "      <td></td>\n",
              "      <td>main</td>\n",
              "    </tr>\n",
              "    <tr>\n",
              "      <th>2012-03-22 07:03:00</th>\n",
              "      <td>Morgan Stanley</td>\n",
              "      <td>Overweight</td>\n",
              "      <td></td>\n",
              "      <td>main</td>\n",
              "    </tr>\n",
              "    <tr>\n",
              "      <th>2012-04-03 11:53:00</th>\n",
              "      <td>UBS</td>\n",
              "      <td>Buy</td>\n",
              "      <td></td>\n",
              "      <td>main</td>\n",
              "    </tr>\n",
              "    <tr>\n",
              "      <th>2012-04-20 06:18:00</th>\n",
              "      <td>Deutsche Bank</td>\n",
              "      <td>Buy</td>\n",
              "      <td></td>\n",
              "      <td>main</td>\n",
              "    </tr>\n",
              "    <tr>\n",
              "      <th>...</th>\n",
              "      <td>...</td>\n",
              "      <td>...</td>\n",
              "      <td>...</td>\n",
              "      <td>...</td>\n",
              "    </tr>\n",
              "    <tr>\n",
              "      <th>2020-07-23 13:06:12</th>\n",
              "      <td>Oppenheimer</td>\n",
              "      <td>Perform</td>\n",
              "      <td>Outperform</td>\n",
              "      <td>down</td>\n",
              "    </tr>\n",
              "    <tr>\n",
              "      <th>2020-09-09 12:01:51</th>\n",
              "      <td>Morgan Stanley</td>\n",
              "      <td>Overweight</td>\n",
              "      <td></td>\n",
              "      <td>main</td>\n",
              "    </tr>\n",
              "    <tr>\n",
              "      <th>2020-10-13 16:40:00</th>\n",
              "      <td>RBC Capital</td>\n",
              "      <td>Outperform</td>\n",
              "      <td></td>\n",
              "      <td>main</td>\n",
              "    </tr>\n",
              "    <tr>\n",
              "      <th>2020-10-20 16:25:09</th>\n",
              "      <td>Stifel</td>\n",
              "      <td>Buy</td>\n",
              "      <td></td>\n",
              "      <td>main</td>\n",
              "    </tr>\n",
              "    <tr>\n",
              "      <th>2020-10-23 16:26:29</th>\n",
              "      <td>Barclays</td>\n",
              "      <td>Overweight</td>\n",
              "      <td></td>\n",
              "      <td>main</td>\n",
              "    </tr>\n",
              "  </tbody>\n",
              "</table>\n",
              "<p>283 rows × 4 columns</p>\n",
              "</div>"
            ],
            "text/plain": [
              "                               Firm       To Grade  From Grade Action\n",
              "Date                                                                 \n",
              "2012-03-16 08:19:00  Argus Research            Buy                 up\n",
              "2012-03-19 14:00:00  Hilliard Lyons  Long-Term Buy               main\n",
              "2012-03-22 07:03:00  Morgan Stanley     Overweight               main\n",
              "2012-04-03 11:53:00             UBS            Buy               main\n",
              "2012-04-20 06:18:00   Deutsche Bank            Buy               main\n",
              "...                             ...            ...         ...    ...\n",
              "2020-07-23 13:06:12     Oppenheimer        Perform  Outperform   down\n",
              "2020-09-09 12:01:51  Morgan Stanley     Overweight               main\n",
              "2020-10-13 16:40:00     RBC Capital     Outperform               main\n",
              "2020-10-20 16:25:09          Stifel            Buy               main\n",
              "2020-10-23 16:26:29        Barclays     Overweight               main\n",
              "\n",
              "[283 rows x 4 columns]"
            ]
          },
          "metadata": {
            "tags": []
          },
          "execution_count": 163
        }
      ]
    },
    {
      "cell_type": "code",
      "metadata": {
        "id": "Ycp_Gx3f4Xb0",
        "outputId": "3c8b141a-f919-4f2b-d498-ea8fd3db2366",
        "colab": {
          "base_uri": "https://localhost:8080/",
          "height": 354
        }
      },
      "source": [
        "# Visualize historical data\n",
        "plt.figure(figsize=(12.5, 4.5))\n",
        "plt.plot(hist['Close'], label = 'MSFT')\n",
        "plt.title('Microsoft Close Price History')\n",
        "plt.xlabel('Mar 3, 2012 - Oct 10, 2020')\n",
        "plt.ylabel('Close Price USD($)')\n",
        "plt.legend(loc='upper left')\n",
        "plt.show()"
      ],
      "execution_count": 164,
      "outputs": [
        {
          "output_type": "display_data",
          "data": {
            "image/png": "[encoded data removed]",
            "text/plain": [
              "<Figure size 900x324 with 1 Axes>"
            ]
          },
          "metadata": {
            "tags": []
          }
        }
      ]
    },
    {
      "cell_type": "code",
      "metadata": {
        "id": "IJQPla9sFI_I",
        "outputId": "65ca267f-5630-495e-a0b5-5422327eb3c4",
        "colab": {
          "base_uri": "https://localhost:8080/",
          "height": 419
        }
      },
      "source": [
        "# Create the simple moving average within a 30 days window\n",
        "SMA30 = pd.DataFrame()\n",
        "SMA30['Close'] = hist['Close'].rolling(window=30).mean()\n",
        "SMA30"
      ],
      "execution_count": 165,
      "outputs": [
        {
          "output_type": "execute_result",
          "data": {
            "text/html": [
              "<div>\n",
              "<style scoped>\n",
              "    .dataframe tbody tr th:only-of-type {\n",
              "        vertical-align: middle;\n",
              "    }\n",
              "\n",
              "    .dataframe tbody tr th {\n",
              "        vertical-align: top;\n",
              "    }\n",
              "\n",
              "    .dataframe thead th {\n",
              "        text-align: right;\n",
              "    }\n",
              "</style>\n",
              "<table border=\"1\" class=\"dataframe\">\n",
              "  <thead>\n",
              "    <tr style=\"text-align: right;\">\n",
              "      <th></th>\n",
              "      <th>Close</th>\n",
              "    </tr>\n",
              "  </thead>\n",
              "  <tbody>\n",
              "    <tr>\n",
              "      <th>2015-10-26</th>\n",
              "      <td>NaN</td>\n",
              "    </tr>\n",
              "    <tr>\n",
              "      <th>2015-10-27</th>\n",
              "      <td>NaN</td>\n",
              "    </tr>\n",
              "    <tr>\n",
              "      <th>2015-10-28</th>\n",
              "      <td>NaN</td>\n",
              "    </tr>\n",
              "    <tr>\n",
              "      <th>2015-10-29</th>\n",
              "      <td>NaN</td>\n",
              "    </tr>\n",
              "    <tr>\n",
              "      <th>2015-10-30</th>\n",
              "      <td>NaN</td>\n",
              "    </tr>\n",
              "    <tr>\n",
              "      <th>...</th>\n",
              "      <td>...</td>\n",
              "    </tr>\n",
              "    <tr>\n",
              "      <th>2020-10-19</th>\n",
              "      <td>209.476667</td>\n",
              "    </tr>\n",
              "    <tr>\n",
              "      <th>2020-10-20</th>\n",
              "      <td>209.876334</td>\n",
              "    </tr>\n",
              "    <tr>\n",
              "      <th>2020-10-21</th>\n",
              "      <td>209.993334</td>\n",
              "    </tr>\n",
              "    <tr>\n",
              "      <th>2020-10-22</th>\n",
              "      <td>210.310667</td>\n",
              "    </tr>\n",
              "    <tr>\n",
              "      <th>2020-10-23</th>\n",
              "      <td>210.717334</td>\n",
              "    </tr>\n",
              "  </tbody>\n",
              "</table>\n",
              "<p>1259 rows × 1 columns</p>\n",
              "</div>"
            ],
            "text/plain": [
              "                 Close\n",
              "2015-10-26         NaN\n",
              "2015-10-27         NaN\n",
              "2015-10-28         NaN\n",
              "2015-10-29         NaN\n",
              "2015-10-30         NaN\n",
              "...                ...\n",
              "2020-10-19  209.476667\n",
              "2020-10-20  209.876334\n",
              "2020-10-21  209.993334\n",
              "2020-10-22  210.310667\n",
              "2020-10-23  210.717334\n",
              "\n",
              "[1259 rows x 1 columns]"
            ]
          },
          "metadata": {
            "tags": []
          },
          "execution_count": 165
        }
      ]
    },
    {
      "cell_type": "code",
      "metadata": {
        "id": "VyE9n2boGqTb",
        "outputId": "83bf3441-7719-4d14-eabc-c0559cd41dd6",
        "colab": {
          "base_uri": "https://localhost:8080/",
          "height": 419
        }
      },
      "source": [
        "SMA100 = pd.DataFrame()\n",
        "SMA100['Close'] = hist['Close'].rolling(window=100).mean()\n",
        "SMA100"
      ],
      "execution_count": 166,
      "outputs": [
        {
          "output_type": "execute_result",
          "data": {
            "text/html": [
              "<div>\n",
              "<style scoped>\n",
              "    .dataframe tbody tr th:only-of-type {\n",
              "        vertical-align: middle;\n",
              "    }\n",
              "\n",
              "    .dataframe tbody tr th {\n",
              "        vertical-align: top;\n",
              "    }\n",
              "\n",
              "    .dataframe thead th {\n",
              "        text-align: right;\n",
              "    }\n",
              "</style>\n",
              "<table border=\"1\" class=\"dataframe\">\n",
              "  <thead>\n",
              "    <tr style=\"text-align: right;\">\n",
              "      <th></th>\n",
              "      <th>Close</th>\n",
              "    </tr>\n",
              "  </thead>\n",
              "  <tbody>\n",
              "    <tr>\n",
              "      <th>2015-10-26</th>\n",
              "      <td>NaN</td>\n",
              "    </tr>\n",
              "    <tr>\n",
              "      <th>2015-10-27</th>\n",
              "      <td>NaN</td>\n",
              "    </tr>\n",
              "    <tr>\n",
              "      <th>2015-10-28</th>\n",
              "      <td>NaN</td>\n",
              "    </tr>\n",
              "    <tr>\n",
              "      <th>2015-10-29</th>\n",
              "      <td>NaN</td>\n",
              "    </tr>\n",
              "    <tr>\n",
              "      <th>2015-10-30</th>\n",
              "      <td>NaN</td>\n",
              "    </tr>\n",
              "    <tr>\n",
              "      <th>...</th>\n",
              "      <td>...</td>\n",
              "    </tr>\n",
              "    <tr>\n",
              "      <th>2020-10-19</th>\n",
              "      <td>206.268434</td>\n",
              "    </tr>\n",
              "    <tr>\n",
              "      <th>2020-10-20</th>\n",
              "      <td>206.586853</td>\n",
              "    </tr>\n",
              "    <tr>\n",
              "      <th>2020-10-21</th>\n",
              "      <td>206.910962</td>\n",
              "    </tr>\n",
              "    <tr>\n",
              "      <th>2020-10-22</th>\n",
              "      <td>207.215221</td>\n",
              "    </tr>\n",
              "    <tr>\n",
              "      <th>2020-10-23</th>\n",
              "      <td>207.528391</td>\n",
              "    </tr>\n",
              "  </tbody>\n",
              "</table>\n",
              "<p>1259 rows × 1 columns</p>\n",
              "</div>"
            ],
            "text/plain": [
              "                 Close\n",
              "2015-10-26         NaN\n",
              "2015-10-27         NaN\n",
              "2015-10-28         NaN\n",
              "2015-10-29         NaN\n",
              "2015-10-30         NaN\n",
              "...                ...\n",
              "2020-10-19  206.268434\n",
              "2020-10-20  206.586853\n",
              "2020-10-21  206.910962\n",
              "2020-10-22  207.215221\n",
              "2020-10-23  207.528391\n",
              "\n",
              "[1259 rows x 1 columns]"
            ]
          },
          "metadata": {
            "tags": []
          },
          "execution_count": 166
        }
      ]
    },
    {
      "cell_type": "code",
      "metadata": {
        "id": "sKcHDAh9HRBk",
        "outputId": "9653456b-3bdb-438d-bb30-78092756c5ef",
        "colab": {
          "base_uri": "https://localhost:8080/",
          "height": 354
        }
      },
      "source": [
        "# Visualize historical data + SMA30 and SMA100\n",
        "plt.figure(figsize=(12.5, 4.5))\n",
        "plt.plot(hist['Close'], label = 'MSFT')\n",
        "plt.plot(SMA30['Close'], label = 'SMA 30')\n",
        "plt.plot(SMA100['Close'], label = 'SMA 100')\n",
        "plt.title('Microsoft Close Price History')\n",
        "plt.xlabel('Time period')\n",
        "plt.ylabel('Close Price USD($)')\n",
        "plt.legend(loc='upper left')\n",
        "plt.show()"
      ],
      "execution_count": 167,
      "outputs": [
        {
          "output_type": "display_data",
          "data": {
            "image/png": "[encoded data removed]",
            "text/plain": [
              "<Figure size 900x324 with 1 Axes>"
            ]
          },
          "metadata": {
            "tags": []
          }
        }
      ]
    },
    {
      "cell_type": "code",
      "metadata": {
        "id": "9rCUK2-LIhhr",
        "outputId": "8515bc83-77ac-45a8-b6b2-5da2543f8126",
        "colab": {
          "base_uri": "https://localhost:8080/",
          "height": 419
        }
      },
      "source": [
        "# Create a data frame to store the data\n",
        "data = pd.DataFrame()\n",
        "data['MSFT'] = hist['Close']\n",
        "data['SMA30'] = SMA30['Close']\n",
        "data['SMA100'] = SMA100['Close']\n",
        "\n",
        "data"
      ],
      "execution_count": 168,
      "outputs": [
        {
          "output_type": "execute_result",
          "data": {
            "text/html": [
              "<div>\n",
              "<style scoped>\n",
              "    .dataframe tbody tr th:only-of-type {\n",
              "        vertical-align: middle;\n",
              "    }\n",
              "\n",
              "    .dataframe tbody tr th {\n",
              "        vertical-align: top;\n",
              "    }\n",
              "\n",
              "    .dataframe thead th {\n",
              "        text-align: right;\n",
              "    }\n",
              "</style>\n",
              "<table border=\"1\" class=\"dataframe\">\n",
              "  <thead>\n",
              "    <tr style=\"text-align: right;\">\n",
              "      <th></th>\n",
              "      <th>MSFT</th>\n",
              "      <th>SMA30</th>\n",
              "      <th>SMA100</th>\n",
              "    </tr>\n",
              "  </thead>\n",
              "  <tbody>\n",
              "    <tr>\n",
              "      <th>2015-10-26</th>\n",
              "      <td>49.302139</td>\n",
              "      <td>NaN</td>\n",
              "      <td>NaN</td>\n",
              "    </tr>\n",
              "    <tr>\n",
              "      <th>2015-10-27</th>\n",
              "      <td>48.793213</td>\n",
              "      <td>NaN</td>\n",
              "      <td>NaN</td>\n",
              "    </tr>\n",
              "    <tr>\n",
              "      <th>2015-10-28</th>\n",
              "      <td>49.056763</td>\n",
              "      <td>NaN</td>\n",
              "      <td>NaN</td>\n",
              "    </tr>\n",
              "    <tr>\n",
              "      <th>2015-10-29</th>\n",
              "      <td>48.493317</td>\n",
              "      <td>NaN</td>\n",
              "      <td>NaN</td>\n",
              "    </tr>\n",
              "    <tr>\n",
              "      <th>2015-10-30</th>\n",
              "      <td>47.838978</td>\n",
              "      <td>NaN</td>\n",
              "      <td>NaN</td>\n",
              "    </tr>\n",
              "    <tr>\n",
              "      <th>...</th>\n",
              "      <td>...</td>\n",
              "      <td>...</td>\n",
              "      <td>...</td>\n",
              "    </tr>\n",
              "    <tr>\n",
              "      <th>2020-10-19</th>\n",
              "      <td>214.220001</td>\n",
              "      <td>209.476667</td>\n",
              "      <td>206.268434</td>\n",
              "    </tr>\n",
              "    <tr>\n",
              "      <th>2020-10-20</th>\n",
              "      <td>214.649994</td>\n",
              "      <td>209.876334</td>\n",
              "      <td>206.586853</td>\n",
              "    </tr>\n",
              "    <tr>\n",
              "      <th>2020-10-21</th>\n",
              "      <td>214.800003</td>\n",
              "      <td>209.993334</td>\n",
              "      <td>206.910962</td>\n",
              "    </tr>\n",
              "    <tr>\n",
              "      <th>2020-10-22</th>\n",
              "      <td>214.889999</td>\n",
              "      <td>210.310667</td>\n",
              "      <td>207.215221</td>\n",
              "    </tr>\n",
              "    <tr>\n",
              "      <th>2020-10-23</th>\n",
              "      <td>216.229996</td>\n",
              "      <td>210.717334</td>\n",
              "      <td>207.528391</td>\n",
              "    </tr>\n",
              "  </tbody>\n",
              "</table>\n",
              "<p>1259 rows × 3 columns</p>\n",
              "</div>"
            ],
            "text/plain": [
              "                  MSFT       SMA30      SMA100\n",
              "2015-10-26   49.302139         NaN         NaN\n",
              "2015-10-27   48.793213         NaN         NaN\n",
              "2015-10-28   49.056763         NaN         NaN\n",
              "2015-10-29   48.493317         NaN         NaN\n",
              "2015-10-30   47.838978         NaN         NaN\n",
              "...                ...         ...         ...\n",
              "2020-10-19  214.220001  209.476667  206.268434\n",
              "2020-10-20  214.649994  209.876334  206.586853\n",
              "2020-10-21  214.800003  209.993334  206.910962\n",
              "2020-10-22  214.889999  210.310667  207.215221\n",
              "2020-10-23  216.229996  210.717334  207.528391\n",
              "\n",
              "[1259 rows x 3 columns]"
            ]
          },
          "metadata": {
            "tags": []
          },
          "execution_count": 168
        }
      ]
    },
    {
      "cell_type": "code",
      "metadata": {
        "id": "3rQrrcPLiHy-"
      },
      "source": [
        "# Create the signals\n",
        "def buy_sell(data):\n",
        "  bid = []\n",
        "  ask = []\n",
        "  flag = -1\n",
        "\n",
        "  for i in range(len(data)):\n",
        "    b = np.nan\n",
        "    a = np.nan\n",
        "\n",
        "    if data['SMA30'][i] > data['SMA100'][i] and flag != 1:      \n",
        "        b = data['MSFT'][i]\n",
        "        flag = 1\n",
        "\n",
        "    if data['SMA30'][i] < data['SMA100'][i] and flag != 0:      \n",
        "        a = data['MSFT'][i]\n",
        "        flag = 0\n",
        "    \n",
        "    bid.append(b)\n",
        "    ask.append(a) \n",
        "    \n",
        "  return (bid, ask)"
      ],
      "execution_count": 169,
      "outputs": []
    },
    {
      "cell_type": "code",
      "metadata": {
        "id": "_SmveW0wltno"
      },
      "source": [
        "# Store buy and sell signals\n",
        "buy_sell = buy_sell(data)\n",
        "\n",
        "data['BID'] = buy_sell[0]\n",
        "data['ASK'] = buy_sell[1]"
      ],
      "execution_count": 170,
      "outputs": []
    },
    {
      "cell_type": "code",
      "metadata": {
        "id": "NoaybZa6m9H-",
        "outputId": "899aa17e-0215-40de-a4fe-e703a44015e4",
        "colab": {
          "base_uri": "https://localhost:8080/",
          "height": 419
        }
      },
      "source": [
        "# data.dropna()\n",
        "data"
      ],
      "execution_count": 171,
      "outputs": [
        {
          "output_type": "execute_result",
          "data": {
            "text/html": [
              "<div>\n",
              "<style scoped>\n",
              "    .dataframe tbody tr th:only-of-type {\n",
              "        vertical-align: middle;\n",
              "    }\n",
              "\n",
              "    .dataframe tbody tr th {\n",
              "        vertical-align: top;\n",
              "    }\n",
              "\n",
              "    .dataframe thead th {\n",
              "        text-align: right;\n",
              "    }\n",
              "</style>\n",
              "<table border=\"1\" class=\"dataframe\">\n",
              "  <thead>\n",
              "    <tr style=\"text-align: right;\">\n",
              "      <th></th>\n",
              "      <th>MSFT</th>\n",
              "      <th>SMA30</th>\n",
              "      <th>SMA100</th>\n",
              "      <th>BID</th>\n",
              "      <th>ASK</th>\n",
              "    </tr>\n",
              "  </thead>\n",
              "  <tbody>\n",
              "    <tr>\n",
              "      <th>2015-10-26</th>\n",
              "      <td>49.302139</td>\n",
              "      <td>NaN</td>\n",
              "      <td>NaN</td>\n",
              "      <td>NaN</td>\n",
              "      <td>NaN</td>\n",
              "    </tr>\n",
              "    <tr>\n",
              "      <th>2015-10-27</th>\n",
              "      <td>48.793213</td>\n",
              "      <td>NaN</td>\n",
              "      <td>NaN</td>\n",
              "      <td>NaN</td>\n",
              "      <td>NaN</td>\n",
              "    </tr>\n",
              "    <tr>\n",
              "      <th>2015-10-28</th>\n",
              "      <td>49.056763</td>\n",
              "      <td>NaN</td>\n",
              "      <td>NaN</td>\n",
              "      <td>NaN</td>\n",
              "      <td>NaN</td>\n",
              "    </tr>\n",
              "    <tr>\n",
              "      <th>2015-10-29</th>\n",
              "      <td>48.493317</td>\n",
              "      <td>NaN</td>\n",
              "      <td>NaN</td>\n",
              "      <td>NaN</td>\n",
              "      <td>NaN</td>\n",
              "    </tr>\n",
              "    <tr>\n",
              "      <th>2015-10-30</th>\n",
              "      <td>47.838978</td>\n",
              "      <td>NaN</td>\n",
              "      <td>NaN</td>\n",
              "      <td>NaN</td>\n",
              "      <td>NaN</td>\n",
              "    </tr>\n",
              "    <tr>\n",
              "      <th>...</th>\n",
              "      <td>...</td>\n",
              "      <td>...</td>\n",
              "      <td>...</td>\n",
              "      <td>...</td>\n",
              "      <td>...</td>\n",
              "    </tr>\n",
              "    <tr>\n",
              "      <th>2020-10-19</th>\n",
              "      <td>214.220001</td>\n",
              "      <td>209.476667</td>\n",
              "      <td>206.268434</td>\n",
              "      <td>NaN</td>\n",
              "      <td>NaN</td>\n",
              "    </tr>\n",
              "    <tr>\n",
              "      <th>2020-10-20</th>\n",
              "      <td>214.649994</td>\n",
              "      <td>209.876334</td>\n",
              "      <td>206.586853</td>\n",
              "      <td>NaN</td>\n",
              "      <td>NaN</td>\n",
              "    </tr>\n",
              "    <tr>\n",
              "      <th>2020-10-21</th>\n",
              "      <td>214.800003</td>\n",
              "      <td>209.993334</td>\n",
              "      <td>206.910962</td>\n",
              "      <td>NaN</td>\n",
              "      <td>NaN</td>\n",
              "    </tr>\n",
              "    <tr>\n",
              "      <th>2020-10-22</th>\n",
              "      <td>214.889999</td>\n",
              "      <td>210.310667</td>\n",
              "      <td>207.215221</td>\n",
              "      <td>NaN</td>\n",
              "      <td>NaN</td>\n",
              "    </tr>\n",
              "    <tr>\n",
              "      <th>2020-10-23</th>\n",
              "      <td>216.229996</td>\n",
              "      <td>210.717334</td>\n",
              "      <td>207.528391</td>\n",
              "      <td>NaN</td>\n",
              "      <td>NaN</td>\n",
              "    </tr>\n",
              "  </tbody>\n",
              "</table>\n",
              "<p>1259 rows × 5 columns</p>\n",
              "</div>"
            ],
            "text/plain": [
              "                  MSFT       SMA30      SMA100  BID  ASK\n",
              "2015-10-26   49.302139         NaN         NaN  NaN  NaN\n",
              "2015-10-27   48.793213         NaN         NaN  NaN  NaN\n",
              "2015-10-28   49.056763         NaN         NaN  NaN  NaN\n",
              "2015-10-29   48.493317         NaN         NaN  NaN  NaN\n",
              "2015-10-30   47.838978         NaN         NaN  NaN  NaN\n",
              "...                ...         ...         ...  ...  ...\n",
              "2020-10-19  214.220001  209.476667  206.268434  NaN  NaN\n",
              "2020-10-20  214.649994  209.876334  206.586853  NaN  NaN\n",
              "2020-10-21  214.800003  209.993334  206.910962  NaN  NaN\n",
              "2020-10-22  214.889999  210.310667  207.215221  NaN  NaN\n",
              "2020-10-23  216.229996  210.717334  207.528391  NaN  NaN\n",
              "\n",
              "[1259 rows x 5 columns]"
            ]
          },
          "metadata": {
            "tags": []
          },
          "execution_count": 171
        }
      ]
    },
    {
      "cell_type": "code",
      "metadata": {
        "id": "zKxPeQ8iulXV",
        "outputId": "a658b60f-267a-459c-cb0b-1fc42e1f28a7",
        "colab": {
          "base_uri": "https://localhost:8080/",
          "height": 153
        }
      },
      "source": [
        "data.index"
      ],
      "execution_count": 172,
      "outputs": [
        {
          "output_type": "execute_result",
          "data": {
            "text/plain": [
              "DatetimeIndex(['2015-10-26', '2015-10-27', '2015-10-28', '2015-10-29',\n",
              "               '2015-10-30', '2015-11-02', '2015-11-03', '2015-11-04',\n",
              "               '2015-11-05', '2015-11-06',\n",
              "               ...\n",
              "               '2020-10-12', '2020-10-13', '2020-10-14', '2020-10-15',\n",
              "               '2020-10-16', '2020-10-19', '2020-10-20', '2020-10-21',\n",
              "               '2020-10-22', '2020-10-23'],\n",
              "              dtype='datetime64[ns]', length=1259, freq=None)"
            ]
          },
          "metadata": {
            "tags": []
          },
          "execution_count": 172
        }
      ]
    },
    {
      "cell_type": "code",
      "metadata": {
        "id": "g5e6ZNmXoda-",
        "outputId": "eb38c74c-12a4-4f1b-82f7-7f23a2af5b59",
        "colab": {
          "base_uri": "https://localhost:8080/",
          "height": 360
        }
      },
      "source": [
        "# Visualize data and strategy\n",
        "plt.figure(figsize=(12.6,4.6))\n",
        "plt.plot(data['MSFT'], label = 'MSFT', alpha = .35)\n",
        "plt.plot(data['SMA30'], label = 'SMA 30', alpha = .35)\n",
        "plt.plot(data['SMA100'], label = 'SMA 100', alpha = .35)\n",
        "plt.scatter(data.index, data['BID'], label = 'BID', marker = '^', color = 'green')\n",
        "plt.scatter(data.index, data['ASK'], label = 'ASK', marker = 'v', color = 'red')\n",
        "plt.title('Microsoft Close Price History w/ BID & ASK signals')\n",
        "plt.xlabel('Time period')\n",
        "plt.ylabel('Close Price USD($)')\n",
        "plt.legend(loc='upper left')\n",
        "plt.show()"
      ],
      "execution_count": 173,
      "outputs": [
        {
          "output_type": "display_data",
          "data": {
            "image/png": "[encoded data removed]",
            "text/plain": [
              "<Figure size 907.2x331.2 with 1 Axes>"
            ]
          },
          "metadata": {
            "tags": []
          }
        }
      ]
    },
    {
      "cell_type": "code",
      "metadata": {
        "id": "ulcOXZdBqnWy"
      },
      "source": [
        ""
      ],
      "execution_count": null,
      "outputs": []
    }
  ]
}